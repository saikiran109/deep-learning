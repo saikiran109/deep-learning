{
  "nbformat": 4,
  "nbformat_minor": 0,
  "metadata": {
    "colab": {
      "provenance": []
    },
    "kernelspec": {
      "name": "python3",
      "display_name": "Python 3"
    },
    "language_info": {
      "name": "python"
    }
  },
  "cells": [
    {
      "cell_type": "code",
      "execution_count": 1,
      "metadata": {
        "id": "5jK-mF_j44UO"
      },
      "outputs": [],
      "source": [
        "import numpy as np\n",
        "import tensorflow as tf\n",
        "from tensorflow.keras.datasets import cifar10\n",
        "from tensorflow.keras.applications import VGG16\n",
        "from tensorflow.keras.models import Sequential\n",
        "from tensorflow.keras.layers import Flatten, Dense, Dropout\n",
        "from tensorflow.keras.optimizers import Adam\n",
        "from sklearn.model_selection import train_test_split\n",
        "from sklearn.metrics import accuracy_score, classification_report"
      ]
    },
    {
      "cell_type": "code",
      "source": [
        "(X_train, y_train), (X_test, y_test) = cifar10.load_data()\n",
        "X_train, X_val, y_train, y_val = train_test_split(X_train, y_train, test_size=0.2, random_state=42)"
      ],
      "metadata": {
        "colab": {
          "base_uri": "https://localhost:8080/"
        },
        "id": "Q195iC6x5EQP",
        "outputId": "94b137b0-434c-4553-fdd6-eb8fda743baf"
      },
      "execution_count": 2,
      "outputs": [
        {
          "output_type": "stream",
          "name": "stdout",
          "text": [
            "Downloading data from https://www.cs.toronto.edu/~kriz/cifar-10-python.tar.gz\n",
            "170498071/170498071 [==============================] - 2s 0us/step\n"
          ]
        }
      ]
    },
    {
      "cell_type": "code",
      "source": [
        "X_train = X_train.astype('float32') / 255.0\n",
        "X_val = X_val.astype('float32') / 255.0\n",
        "X_test = X_test.astype('float32') / 255.0"
      ],
      "metadata": {
        "id": "lMqvGRPk5PjN"
      },
      "execution_count": 3,
      "outputs": []
    },
    {
      "cell_type": "code",
      "source": [
        "base_model = VGG16(weights='imagenet', include_top=False, input_shape=(32, 32, 3))"
      ],
      "metadata": {
        "colab": {
          "base_uri": "https://localhost:8080/"
        },
        "id": "LLr3FF4t5SO0",
        "outputId": "e496b8c1-c9f1-4c21-d244-3fc7f62d753b"
      },
      "execution_count": 4,
      "outputs": [
        {
          "output_type": "stream",
          "name": "stdout",
          "text": [
            "Downloading data from https://storage.googleapis.com/tensorflow/keras-applications/vgg16/vgg16_weights_tf_dim_ordering_tf_kernels_notop.h5\n",
            "58889256/58889256 [==============================] - 0s 0us/step\n"
          ]
        }
      ]
    },
    {
      "cell_type": "code",
      "source": [
        "for layer in base_model.layers:\n",
        "    layer.trainable = False"
      ],
      "metadata": {
        "id": "RJM9Y04U5UI8"
      },
      "execution_count": 5,
      "outputs": []
    },
    {
      "cell_type": "code",
      "source": [
        "model = Sequential([\n",
        "    base_model,\n",
        "    Flatten(),\n",
        "    Dense(512, activation='relu'),\n",
        "    Dropout(0.5),\n",
        "    Dense(10, activation='softmax')  # Output layer for 10 classes in CIFAR-10\n",
        "])\n"
      ],
      "metadata": {
        "id": "5id_lg4Q5WQu"
      },
      "execution_count": 6,
      "outputs": []
    },
    {
      "cell_type": "code",
      "source": [
        "model.compile(optimizer=Adam(learning_rate=1e-4), loss='sparse_categorical_crossentropy', metrics=['accuracy'])"
      ],
      "metadata": {
        "id": "dmRQCvQl5ZGD"
      },
      "execution_count": 9,
      "outputs": []
    },
    {
      "cell_type": "code",
      "source": [
        "history = model.fit(\n",
        "    X_train, y_train,\n",
        "    epochs=10,\n",
        "    batch_size=32,\n",
        "    validation_data=(X_val, y_val),\n",
        "    verbose=1\n",
        ")"
      ],
      "metadata": {
        "colab": {
          "base_uri": "https://localhost:8080/"
        },
        "id": "9JiYQJLk5baO",
        "outputId": "957f3349-7122-4a5e-e859-401b3cf865f1"
      },
      "execution_count": 10,
      "outputs": [
        {
          "output_type": "stream",
          "name": "stdout",
          "text": [
            "Epoch 1/10\n",
            "1250/1250 [==============================] - 384s 307ms/step - loss: 1.7830 - accuracy: 0.3722 - val_loss: 1.4766 - val_accuracy: 0.4940\n",
            "Epoch 2/10\n",
            "1250/1250 [==============================] - 382s 305ms/step - loss: 1.4686 - accuracy: 0.4894 - val_loss: 1.3630 - val_accuracy: 0.5248\n",
            "Epoch 3/10\n",
            "1250/1250 [==============================] - 382s 305ms/step - loss: 1.3791 - accuracy: 0.5234 - val_loss: 1.3062 - val_accuracy: 0.5470\n",
            "Epoch 4/10\n",
            "1250/1250 [==============================] - 381s 305ms/step - loss: 1.3215 - accuracy: 0.5416 - val_loss: 1.2658 - val_accuracy: 0.5565\n",
            "Epoch 5/10\n",
            "1250/1250 [==============================] - 382s 305ms/step - loss: 1.2807 - accuracy: 0.5546 - val_loss: 1.2404 - val_accuracy: 0.5637\n",
            "Epoch 6/10\n",
            "1250/1250 [==============================] - 382s 306ms/step - loss: 1.2527 - accuracy: 0.5667 - val_loss: 1.2166 - val_accuracy: 0.5748\n",
            "Epoch 7/10\n",
            "1250/1250 [==============================] - 381s 305ms/step - loss: 1.2275 - accuracy: 0.5727 - val_loss: 1.2080 - val_accuracy: 0.5767\n",
            "Epoch 8/10\n",
            "1250/1250 [==============================] - 381s 305ms/step - loss: 1.2077 - accuracy: 0.5797 - val_loss: 1.1873 - val_accuracy: 0.5841\n",
            "Epoch 9/10\n",
            "1250/1250 [==============================] - 382s 305ms/step - loss: 1.1902 - accuracy: 0.5874 - val_loss: 1.1763 - val_accuracy: 0.5863\n",
            "Epoch 10/10\n",
            "1250/1250 [==============================] - 382s 306ms/step - loss: 1.1712 - accuracy: 0.5931 - val_loss: 1.1656 - val_accuracy: 0.5909\n"
          ]
        }
      ]
    }
  ]
}